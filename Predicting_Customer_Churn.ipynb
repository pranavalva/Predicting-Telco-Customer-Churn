{
 "cells": [
  {
   "cell_type": "code",
   "execution_count": 1,
   "metadata": {},
   "outputs": [],
   "source": [
    "# importing required libraries\n",
    "import pandas as pd\n",
    "import numpy as np\n",
    "import matplotlib.pyplot as plt\n",
    "from sklearn.impute import SimpleImputer\n",
    "from sklearn.preprocessing import StandardScaler, OneHotEncoder\n",
    "from sklearn.model_selection import train_test_split, GridSearchCV\n",
    "from sklearn.compose import ColumnTransformer\n",
    "from sklearn.pipeline import Pipeline\n",
    "from sklearn.pipeline import make_pipeline\n",
    "from sklearn.model_selection import cross_val_score\n",
    "from sklearn.linear_model import LogisticRegression\n",
    "from sklearn.svm import LinearSVC\n",
    "from sklearn.neighbors import NearestCentroid\n",
    "from sklearn.model_selection import KFold, StratifiedKFold, ShuffleSplit, RepeatedStratifiedKFold\n",
    "import operator\n",
    "import warnings\n",
    "warnings.filterwarnings(\"ignore\")"
   ]
  },
  {
   "cell_type": "code",
   "execution_count": 2,
   "metadata": {},
   "outputs": [],
   "source": [
    "# reading in the dataset\n",
    "df = pd.read_csv(\"WA_Fn-UseC_-Telco-Customer-Churn.csv\")"
   ]
  },
  {
   "cell_type": "code",
   "execution_count": 3,
   "metadata": {},
   "outputs": [
    {
     "data": {
      "text/plain": [
       "(7043, 21)"
      ]
     },
     "execution_count": 3,
     "metadata": {},
     "output_type": "execute_result"
    }
   ],
   "source": [
    "# observing the number of rows and columns\n",
    "df.shape"
   ]
  },
  {
   "cell_type": "code",
   "execution_count": 4,
   "metadata": {},
   "outputs": [
    {
     "name": "stdout",
     "output_type": "stream",
     "text": [
      "<class 'pandas.core.frame.DataFrame'>\n",
      "RangeIndex: 7043 entries, 0 to 7042\n",
      "Data columns (total 21 columns):\n",
      "customerID          7043 non-null object\n",
      "gender              7043 non-null object\n",
      "SeniorCitizen       7043 non-null int64\n",
      "Partner             7043 non-null object\n",
      "Dependents          7043 non-null object\n",
      "tenure              7043 non-null int64\n",
      "PhoneService        7043 non-null object\n",
      "MultipleLines       7043 non-null object\n",
      "InternetService     7043 non-null object\n",
      "OnlineSecurity      7043 non-null object\n",
      "OnlineBackup        7043 non-null object\n",
      "DeviceProtection    7043 non-null object\n",
      "TechSupport         7043 non-null object\n",
      "StreamingTV         7043 non-null object\n",
      "StreamingMovies     7043 non-null object\n",
      "Contract            7043 non-null object\n",
      "PaperlessBilling    7043 non-null object\n",
      "PaymentMethod       7043 non-null object\n",
      "MonthlyCharges      7043 non-null float64\n",
      "TotalCharges        7043 non-null object\n",
      "Churn               7043 non-null object\n",
      "dtypes: float64(1), int64(2), object(18)\n",
      "memory usage: 1.1+ MB\n"
     ]
    }
   ],
   "source": [
    "# observing data types and missing values\n",
    "df.info()"
   ]
  },
  {
   "cell_type": "code",
   "execution_count": 5,
   "metadata": {},
   "outputs": [],
   "source": [
    "# Initializing lists to store continuous and categorical features\n",
    "cat_var = []\n",
    "cont_var = []\n",
    "\n",
    "# Appending to the lists depending on data type\n",
    "for i in range(0,df.shape[1]):\n",
    "    if df.iloc[:,i].dtype == 'float64' or df.iloc[:,i].dtype == 'int64':\n",
    "        cont_var.append(df.columns[i])\n",
    "    else:\n",
    "        cat_var.append(df.columns[i]) "
   ]
  },
  {
   "cell_type": "code",
   "execution_count": 6,
   "metadata": {},
   "outputs": [
    {
     "data": {
      "image/png": "[encoded data removed]",
      "text/plain": [
       "<Figure size 720x288 with 3 Axes>"
      ]
     },
     "metadata": {
      "needs_background": "light"
     },
     "output_type": "display_data"
    }
   ],
   "source": [
    "def draw_histograms(df, variables, n_rows, n_cols):\n",
    "    fig=plt.figure(figsize=(10,4))\n",
    "    for i, var_name in enumerate(variables):\n",
    "        ax=fig.add_subplot(n_rows,n_cols,i+1)\n",
    "        df[var_name].hist(bins=10,ax=ax)\n",
    "        ax.set_title(var_name+\" Distribution\")\n",
    "    fig.tight_layout()\n",
    "    plt.show()\n",
    "\n",
    "draw_histograms(df.loc[:,cont_var],df.loc[:,cont_var].columns,1,3)"
   ]
  },
  {
   "cell_type": "markdown",
   "metadata": {},
   "source": [
    "### Observations\n",
    " - Taking all the features that have data type int64 and float64, we observe that Seniior Citizen is actually a categorical variable that is one hot encoded\n",
    " - Tenure and Monthly charges are the only continuous variables in the dataset"
   ]
  },
  {
   "cell_type": "code",
   "execution_count": 7,
   "metadata": {},
   "outputs": [],
   "source": [
    "# converting non-continuous features to object data type\n",
    "non_cont_var = ['SeniorCitizen']\n",
    "\n",
    "# updating the continuous and categorical lists\n",
    "for i in range(0,len(non_cont_var)):\n",
    "    df.loc[:,non_cont_var[i]] = df.loc[:,non_cont_var[i]].astype(object)\n",
    "    cat_var.append(non_cont_var[i])\n",
    "    if non_cont_var[i] in cont_var: cont_var.remove(non_cont_var[i])\n",
    "        \n",
    "# updating continuous list to separate the target variable\n",
    "if 'Churn' in cat_var: cat_var.remove('Churn')\n",
    "    \n",
    "# converting churn to 0,1\n",
    "df['Churn'] = df['Churn'].apply(lambda x: 0 if x.strip()=='No' else 1)"
   ]
  },
  {
   "cell_type": "code",
   "execution_count": 8,
   "metadata": {},
   "outputs": [],
   "source": [
    "# creating the train test splits from the data\n",
    "X_train, X_test, y_train, y_test = train_test_split(df.loc[:,cont_var+cat_var],df['Churn'],random_state=42)"
   ]
  },
  {
   "cell_type": "code",
   "execution_count": 9,
   "metadata": {},
   "outputs": [],
   "source": [
    "# initializing a continuous transformer\n",
    "cont_transformer = Pipeline(steps=[\n",
    "    ('imputer', SimpleImputer(strategy='median'))])\n",
    "\n",
    "# initializing a categorical transformer\n",
    "cat_transformer = Pipeline(steps=[\n",
    "    ('imputer', SimpleImputer(strategy='most_frequent')),\n",
    "    ('onehot', OneHotEncoder(handle_unknown='ignore'))])\n",
    "\n",
    "# initializing column transformer\n",
    "preprocessor = ColumnTransformer(\n",
    "    transformers=[\n",
    "        ('num', cont_transformer, cont_var),\n",
    "        ('cat', cat_transformer, cat_var)])\n",
    "\n",
    "# appending classifiers and preprocessing pipelines\n",
    "logit = Pipeline(steps=[('preprocessor', preprocessor),\n",
    "                      ('classifier', LogisticRegression())])\n",
    "\n",
    "linear_sv = Pipeline(steps=[('preprocessor', preprocessor),\n",
    "                      ('classifier', LinearSVC())])\n",
    "\n",
    "n_cent = Pipeline(steps=[('preprocessor', preprocessor),\n",
    "                      ('classifier', NearestCentroid())])\n",
    "\n",
    "model_name = ['Logistic R','Linear SVC','Nearest Centroid']"
   ]
  },
  {
   "cell_type": "code",
   "execution_count": 10,
   "metadata": {},
   "outputs": [],
   "source": [
    "# Calculating cross validation scores for each\n",
    "model_scores = []\n",
    "model_scores.append(np.mean(cross_val_score(logit, X_train, y_train, cv = 5)))\n",
    "model_scores.append(np.mean(cross_val_score(linear_sv, X_train, y_train, cv = 5)))\n",
    "model_scores.append(np.mean(cross_val_score(n_cent, X_train, y_train, cv = 5)))"
   ]
  },
  {
   "cell_type": "code",
   "execution_count": 11,
   "metadata": {},
   "outputs": [],
   "source": [
    "# initializing a continuous transformer\n",
    "cont_transformer_std = Pipeline(steps=[\n",
    "    ('imputer', SimpleImputer(strategy='median')),\n",
    "    ('scaler', StandardScaler())])\n",
    "\n",
    "# initializing column transformer\n",
    "preprocessor_std = ColumnTransformer(\n",
    "    transformers=[\n",
    "        ('num', cont_transformer_std, cont_var),\n",
    "        ('cat', cat_transformer, cat_var)])\n",
    "\n",
    "logit_std = Pipeline(steps=[('preprocessor', preprocessor_std),\n",
    "                      ('classifier', LogisticRegression())])\n",
    "\n",
    "linear_sv_std = Pipeline(steps=[('preprocessor', preprocessor_std),\n",
    "                      ('classifier', LinearSVC())])\n",
    "\n",
    "n_cent_std = Pipeline(steps=[('preprocessor', preprocessor_std),\n",
    "                      ('classifier', NearestCentroid())])\n",
    "\n",
    "model_name_std = ['Logistic R','Linear SVC','Nearest Centroid']"
   ]
  },
  {
   "cell_type": "code",
   "execution_count": 12,
   "metadata": {},
   "outputs": [],
   "source": [
    "# Calculating cross validation scores for each\n",
    "model_scores_std = []\n",
    "model_scores_std.append(np.mean(cross_val_score(logit_std, X_train, y_train, cv = 5)))\n",
    "model_scores_std.append(np.mean(cross_val_score(linear_sv_std, X_train, y_train, cv = 5)))\n",
    "model_scores_std.append(np.mean(cross_val_score(n_cent_std, X_train, y_train, cv = 5)))"
   ]
  },
  {
   "cell_type": "code",
   "execution_count": 13,
   "metadata": {},
   "outputs": [
    {
     "name": "stdout",
     "output_type": "stream",
     "text": [
      "Without Standardization\n",
      "The score of Logistic R is 0.801777\n",
      "The score of Linear SVC is 0.728155\n",
      "The score of Nearest Centroid is 0.711663\n",
      "With Standardization\n",
      "The score of Logistic R is 0.801399\n",
      "The score of Linear SVC is 0.799696\n",
      "The score of Nearest Centroid is 0.717342\n"
     ]
    }
   ],
   "source": [
    "print(\"Without Standardization\")\n",
    "for i in range(0,3):\n",
    "    print(\"The score of %s is %f\"% (model_name[i],model_scores[i]))\n",
    "\n",
    "print(\"With Standardization\")\n",
    "for i in range(0,3):\n",
    "    print(\"The score of %s is %f\"% (model_name_std[i],model_scores_std[i]))"
   ]
  },
  {
   "cell_type": "code",
   "execution_count": 14,
   "metadata": {},
   "outputs": [
    {
     "data": {
      "text/plain": [
       "Text(0.5,1,'R^2 With Standardization')"
      ]
     },
     "execution_count": 14,
     "metadata": {},
     "output_type": "execute_result"
    },
    {
     "data": {
      "image/png": "[encoded data removed]",
      "text/plain": [
       "<Figure size 720x432 with 2 Axes>"
      ]
     },
     "metadata": {
      "needs_background": "light"
     },
     "output_type": "display_data"
    }
   ],
   "source": [
    "model_name = [x for _,x in sorted(zip(model_scores,model_name))]\n",
    "model_scores = sorted(model_scores)\n",
    "\n",
    "model_name_std = [x for _,x in sorted(zip(model_scores_std,model_name_std))]\n",
    "model_scores_std = sorted(model_scores_std)\n",
    "\n",
    "fig=plt.figure(figsize=(10,6))\n",
    "\n",
    "ax=fig.add_subplot(1,2,1)\n",
    "ax.bar(model_name, model_scores)\n",
    "ax.set_title(\"R^2 Without Standardization\")\n",
    "\n",
    "ax=fig.add_subplot(1,2,2)\n",
    "ax.bar(model_name_std, model_scores_std)\n",
    "ax.set_title(\"R^2 With Standardization\")"
   ]
  },
  {
   "cell_type": "markdown",
   "metadata": {},
   "source": [
    "### Observations\n",
    " - We observe that with standardization, Logistic Regression continues to produce the best R^2 but the R^2 of Linear SVC improves and it's value almost reaches that of the logistic regression model"
   ]
  },
  {
   "cell_type": "code",
   "execution_count": 15,
   "metadata": {},
   "outputs": [],
   "source": [
    "# parameter to tune\n",
    "l_param_grid = {'classifier__C': [0.001, 0.01, 0.1, 1, 10, 100, 1000] }\n",
    "svc_param_grid = {'classifier__C':np.arange(0.01,100,10)}\n",
    "nc_param_grid = {'classifier__metric':['euclidean','manhattan']}"
   ]
  },
  {
   "cell_type": "code",
   "execution_count": 16,
   "metadata": {},
   "outputs": [],
   "source": [
    "# performing gridsearch for each model\n",
    "l_grid = GridSearchCV(logit_std, l_param_grid, cv=5)\n",
    "svc_grid = GridSearchCV(linear_sv_std, svc_param_grid, cv=5)\n",
    "nc_grid = GridSearchCV(n_cent_std, nc_param_grid, cv=5)"
   ]
  },
  {
   "cell_type": "code",
   "execution_count": 17,
   "metadata": {},
   "outputs": [
    {
     "name": "stdout",
     "output_type": "stream",
     "text": [
      "Logit Best cross-validation score: 0.8029\n",
      "Logit Best parameters:  {'classifier__C': 0.01}\n",
      "SVC Best cross-validation score: 0.8012\n",
      "SVC Best parameters:  {'classifier__C': 0.01}\n",
      "NC Best cross-validation score: 0.7173\n",
      "NC Best parameters:  {'classifier__metric': 'euclidean'}\n"
     ]
    }
   ],
   "source": [
    "# fitting all the models\n",
    "l_grid.fit(X_train, y_train)\n",
    "print(\"Logit Best cross-validation score: {:.4f}\".format(l_grid.best_score_))\n",
    "print(\"Logit Best parameters: \", l_grid.best_params_)\n",
    "\n",
    "\n",
    "svc_grid.fit(X_train, y_train)\n",
    "print(\"SVC Best cross-validation score: {:.4f}\".format(svc_grid.best_score_))\n",
    "print(\"SVC Best parameters: \", svc_grid.best_params_)\n",
    "\n",
    "\n",
    "nc_grid.fit(X_train, y_train)\n",
    "print(\"NC Best cross-validation score: {:.4f}\".format(nc_grid.best_score_))\n",
    "print(\"NC Best parameters: \", nc_grid.best_params_)"
   ]
  },
  {
   "cell_type": "code",
   "execution_count": 18,
   "metadata": {},
   "outputs": [
    {
     "data": {
      "image/png": "[encoded data removed]",
      "text/plain": [
       "<Figure size 432x288 with 1 Axes>"
      ]
     },
     "metadata": {
      "needs_background": "light"
     },
     "output_type": "display_data"
    }
   ],
   "source": [
    "# Logistic validation score dependence \n",
    "\n",
    "\n",
    "alphas = [0.001, 0.01, 0.1, 1, 10, 100, 1000]\n",
    "\n",
    "train_scores_mean = l_grid.cv_results_[\"mean_train_score\"]\n",
    "train_scores_std = l_grid.cv_results_[\"std_train_score\"]\n",
    "test_scores_mean = l_grid.cv_results_[\"mean_test_score\"]\n",
    "test_scores_std = l_grid.cv_results_[\"std_test_score\"]\n",
    "\n",
    "plt.figure()\n",
    "plt.title('Model')\n",
    "plt.xlabel('C')\n",
    "plt.ylabel('Score')\n",
    "# plot train scores\n",
    "plt.semilogx(alphas, train_scores_mean, label='Mean Train score',\n",
    "             color='navy')\n",
    "# create a shaded area between [mean - std, mean + std]\n",
    "plt.gca().fill_between(alphas,\n",
    "                       train_scores_mean - train_scores_std,\n",
    "                       train_scores_mean + train_scores_std,\n",
    "                       alpha=0.2,\n",
    "                       color='navy')\n",
    "plt.semilogx(alphas, test_scores_mean,\n",
    "             label='Mean Test score', color='darkorange')\n",
    "\n",
    "# create a shaded area between [mean - std, mean + std]\n",
    "plt.gca().fill_between(alphas,\n",
    "                       test_scores_mean - test_scores_std,\n",
    "                       test_scores_mean + test_scores_std,\n",
    "                       alpha=0.2,\n",
    "                       color='darkorange')\n",
    "\n",
    "plt.legend(loc='best')\n",
    "plt.show()"
   ]
  },
  {
   "cell_type": "code",
   "execution_count": 19,
   "metadata": {},
   "outputs": [
    {
     "data": {
      "image/png": "[encoded data removed]",
      "text/plain": [
       "<Figure size 432x288 with 1 Axes>"
      ]
     },
     "metadata": {
      "needs_background": "light"
     },
     "output_type": "display_data"
    }
   ],
   "source": [
    "# Linear SvC validation score dependence \n",
    "\n",
    "\n",
    "alphas = np.arange(0.01,100,10)\n",
    "\n",
    "train_scores_mean = svc_grid.cv_results_[\"mean_train_score\"]\n",
    "train_scores_std = svc_grid.cv_results_[\"std_train_score\"]\n",
    "test_scores_mean = svc_grid.cv_results_[\"mean_test_score\"]\n",
    "test_scores_std = svc_grid.cv_results_[\"std_test_score\"]\n",
    "\n",
    "plt.figure()\n",
    "plt.title('Model')\n",
    "plt.xlabel('C')\n",
    "plt.ylabel('Score')\n",
    "# plot train scores\n",
    "plt.semilogx(alphas, train_scores_mean, label='Mean Train score',\n",
    "             color='navy')\n",
    "# create a shaded area between [mean - std, mean + std]\n",
    "plt.gca().fill_between(alphas,\n",
    "                       train_scores_mean - train_scores_std,\n",
    "                       train_scores_mean + train_scores_std,\n",
    "                       alpha=0.2,\n",
    "                       color='navy')\n",
    "plt.semilogx(alphas, test_scores_mean,\n",
    "             label='Mean Test score', color='darkorange')\n",
    "\n",
    "# create a shaded area between [mean - std, mean + std]\n",
    "plt.gca().fill_between(alphas,\n",
    "                       test_scores_mean - test_scores_std,\n",
    "                       test_scores_mean + test_scores_std,\n",
    "                       alpha=0.2,\n",
    "                       color='darkorange')\n",
    "\n",
    "plt.legend(loc='best')\n",
    "plt.show()"
   ]
  },
  {
   "cell_type": "markdown",
   "metadata": {},
   "source": [
    "### Observations\n",
    " - We observe that after gridsearch, there is minor improvement in the logistic regression model and the Linear SVC. No change is observed in the Nearest Centroid model as the default euclidean metric itself is executed"
   ]
  },
  {
   "cell_type": "code",
   "execution_count": 20,
   "metadata": {},
   "outputs": [],
   "source": [
    "# Calculating cross validation scores with kfold with shuffling\n",
    "kfold = KFold(n_splits=5,shuffle= True, random_state=42)\n",
    "model_scores_42 = []\n",
    "model_scores_42.append(np.mean(cross_val_score(logit_std, X_train, y_train, cv = kfold)))\n",
    "model_scores_42.append(np.mean(cross_val_score(linear_sv_std, X_train, y_train, cv = kfold)))\n",
    "model_scores_42.append(np.mean(cross_val_score(n_cent_std, X_train, y_train, cv = kfold)))"
   ]
  },
  {
   "cell_type": "code",
   "execution_count": 21,
   "metadata": {},
   "outputs": [],
   "source": [
    "kfold = KFold(n_splits=5,shuffle= True, random_state=64)\n",
    "model_scores_64 = []\n",
    "model_scores_64.append(np.mean(cross_val_score(logit_std, X_train, y_train, cv = kfold)))\n",
    "model_scores_64.append(np.mean(cross_val_score(linear_sv_std, X_train, y_train, cv = kfold)))\n",
    "model_scores_64.append(np.mean(cross_val_score(n_cent_std, X_train, y_train, cv = kfold)))"
   ]
  },
  {
   "cell_type": "code",
   "execution_count": 22,
   "metadata": {},
   "outputs": [
    {
     "data": {
      "text/plain": [
       "Text(0.5,1,'K Fold with random state 64')"
      ]
     },
     "execution_count": 22,
     "metadata": {},
     "output_type": "execute_result"
    },
    {
     "data": {
      "image/png": "[encoded data removed]",
      "text/plain": [
       "<Figure size 720x432 with 2 Axes>"
      ]
     },
     "metadata": {
      "needs_background": "light"
     },
     "output_type": "display_data"
    }
   ],
   "source": [
    "model_name_42 = [x for _,x in sorted(zip(model_scores,model_name))]\n",
    "model_scores_42 = sorted(model_scores)\n",
    "\n",
    "model_name_64 = [x for _,x in sorted(zip(model_scores_std,model_name_std))]\n",
    "model_scores_64 = sorted(model_scores_std)\n",
    "\n",
    "fig=plt.figure(figsize=(10,6))\n",
    "\n",
    "ax=fig.add_subplot(1,2,1)\n",
    "ax.bar(model_name_42, model_scores_42)\n",
    "ax.set_title(\"K Fold with random state 42\")\n",
    "\n",
    "ax=fig.add_subplot(1,2,2)\n",
    "ax.bar(model_name_64, model_scores_64)\n",
    "ax.set_title(\"K Fold with random state 64\")"
   ]
  },
  {
   "cell_type": "code",
   "execution_count": 23,
   "metadata": {},
   "outputs": [
    {
     "name": "stdout",
     "output_type": "stream",
     "text": [
      "K Fold with random state 42\n",
      "The score of Nearest Centroid is 0.711663\n",
      "The score of Linear SVC is 0.728155\n",
      "The score of Logistic R is 0.801777\n",
      "K Fold with random state 64\n",
      "The score of Nearest Centroid is 0.717342\n",
      "The score of Linear SVC is 0.799696\n",
      "The score of Logistic R is 0.801399\n"
     ]
    }
   ],
   "source": [
    "print(\"K Fold with random state 42\")\n",
    "for i in range(0,3):\n",
    "    print(\"The score of %s is %f\"% (model_name_42[i],model_scores_42[i]))\n",
    "\n",
    "print(\"K Fold with random state 64\")\n",
    "for i in range(0,3):\n",
    "    print(\"The score of %s is %f\"% (model_name_64[i],model_scores_64[i]))"
   ]
  },
  {
   "cell_type": "markdown",
   "metadata": {},
   "source": [
    "### Observations\n",
    " - Yes they change. We observe an increase in the score of the Linear SVC when the random seed of the Kfold with shuffle is change from 42 to 64"
   ]
  },
  {
   "cell_type": "code",
   "execution_count": 24,
   "metadata": {},
   "outputs": [],
   "source": [
    "# creating the train test splits from the data\n",
    "X_train_64, X_test_64, y_train_64, y_test_64 = train_test_split(df.loc[:,cont_var+cat_var],df['Churn'],random_state=64)"
   ]
  },
  {
   "cell_type": "code",
   "execution_count": 25,
   "metadata": {},
   "outputs": [],
   "source": [
    "# Calculating cross validation scores with kfold with shuffling\n",
    "kfold = KFold(n_splits=5,shuffle= True, random_state=42)\n",
    "model_scores_42_64 = []\n",
    "model_scores_42_64.append(np.mean(cross_val_score(logit_std, X_train_64, y_train_64, cv = kfold)))\n",
    "model_scores_42_64.append(np.mean(cross_val_score(linear_sv_std, X_train_64, y_train_64, cv = kfold)))\n",
    "model_scores_42_64.append(np.mean(cross_val_score(n_cent_std, X_train_64, y_train_64, cv = kfold)))"
   ]
  },
  {
   "cell_type": "code",
   "execution_count": 26,
   "metadata": {},
   "outputs": [
    {
     "data": {
      "text/plain": [
       "Text(0.5,1,'K Fold with random state 64')"
      ]
     },
     "execution_count": 26,
     "metadata": {},
     "output_type": "execute_result"
    },
    {
     "data": {
      "image/png": "[encoded data removed]",
      "text/plain": [
       "<Figure size 720x432 with 2 Axes>"
      ]
     },
     "metadata": {
      "needs_background": "light"
     },
     "output_type": "display_data"
    }
   ],
   "source": [
    "model_name_42 = [x for _,x in sorted(zip(model_scores,model_name))]\n",
    "model_scores_42 = sorted(model_scores)\n",
    "\n",
    "model_name_42_64 = [x for _,x in sorted(zip(model_scores_std,model_name_std))]\n",
    "model_scores_42_64 = sorted(model_scores_std)\n",
    "\n",
    "fig=plt.figure(figsize=(10,6))\n",
    "\n",
    "ax=fig.add_subplot(1,2,1)\n",
    "ax.bar(model_name_42, model_scores_42)\n",
    "ax.set_title(\"K Fold with random state 42\")\n",
    "\n",
    "ax=fig.add_subplot(1,2,2)\n",
    "ax.bar(model_name_42_64, model_scores_42_64)\n",
    "ax.set_title(\"K Fold with random state 64\")"
   ]
  },
  {
   "cell_type": "code",
   "execution_count": 27,
   "metadata": {},
   "outputs": [
    {
     "name": "stdout",
     "output_type": "stream",
     "text": [
      "Train_Test_Split with random state 42\n",
      "The score of Nearest Centroid is 0.711663\n",
      "The score of Linear SVC is 0.728155\n",
      "The score of Logistic R is 0.801777\n",
      "Train_Test_Split with random state 64\n",
      "The score of Nearest Centroid is 0.717342\n",
      "The score of Linear SVC is 0.799696\n",
      "The score of Logistic R is 0.801399\n"
     ]
    }
   ],
   "source": [
    "print(\"Train_Test_Split with random state 42\")\n",
    "for i in range(0,3):\n",
    "    print(\"The score of %s is %f\"% (model_name_42[i],model_scores_42[i]))\n",
    "\n",
    "print(\"Train_Test_Split with random state 64\")\n",
    "for i in range(0,3):\n",
    "    print(\"The score of %s is %f\"% (model_name_42_64[i],model_scores_42_64[i]))"
   ]
  },
  {
   "cell_type": "markdown",
   "metadata": {},
   "source": [
    "### Observations\n",
    " - Yes they change. We observe a similar increase in the score of the Linear SVC when the random seed of the train_test_split with shuffle is change from 42 to 64"
   ]
  },
  {
   "cell_type": "code",
   "execution_count": 28,
   "metadata": {},
   "outputs": [
    {
     "data": {
      "text/plain": [
       "Pipeline(memory=None,\n",
       "     steps=[('preprocessor', ColumnTransformer(n_jobs=None, remainder='drop', sparse_threshold=0.3,\n",
       "         transformer_weights=None,\n",
       "         transformers=[('num', Pipeline(memory=None,\n",
       "     steps=[('imputer', SimpleImputer(copy=True, fill_value=None, missing_values=nan,\n",
       "       strategy='median', verbo...', 'SeniorCitizen'])])), ('classifier', NearestCentroid(metric='euclidean', shrink_threshold=None))])"
      ]
     },
     "execution_count": 28,
     "metadata": {},
     "output_type": "execute_result"
    }
   ],
   "source": [
    "# Training new models based on gridsearch parameters\n",
    "\n",
    "logit_final = Pipeline(steps=[('preprocessor', preprocessor_std),\n",
    "                      ('classifier', LogisticRegression(C=0.1))])\n",
    "\n",
    "svc_final = Pipeline(steps=[('preprocessor', preprocessor_std),\n",
    "                      ('classifier', LinearSVC(C=0.1))])\n",
    "\n",
    "n_cent_final = Pipeline(steps=[('preprocessor', preprocessor_std),\n",
    "                      ('classifier', NearestCentroid(metric='euclidean'))])\n",
    "\n",
    "\n",
    "logit_final.fit(X_train,y_train)\n",
    "svc_final.fit(X_train,y_train)\n",
    "n_cent_final.fit(X_train,y_train)"
   ]
  },
  {
   "cell_type": "code",
   "execution_count": 29,
   "metadata": {},
   "outputs": [
    {
     "name": "stdout",
     "output_type": "stream",
     "text": [
      "The final score of the logistic regression model is: 0.814310\n",
      "The final score of the linear svc model is: 0.814310\n",
      "The final score of the nearest centroid model is: 0.741624\n"
     ]
    }
   ],
   "source": [
    "print(\"The final score of the logistic regression model is: %f\" %logit_final.score(X_test,y_test))\n",
    "print(\"The final score of the linear svc model is: %f\" %svc_final.score(X_test,y_test))\n",
    "print(\"The final score of the nearest centroid model is: %f\" %n_cent_final.score(X_test,y_test))"
   ]
  },
  {
   "cell_type": "code",
   "execution_count": 30,
   "metadata": {},
   "outputs": [
    {
     "data": {
      "image/png": "[encoded data removed]",
      "text/plain": [
       "<Figure size 720x288 with 1 Axes>"
      ]
     },
     "metadata": {
      "needs_background": "light"
     },
     "output_type": "display_data"
    }
   ],
   "source": [
    "log_coeff=dict(zip(cont_var+cat_var, np.concatenate(logit_final.named_steps.classifier.coef_.reshape(-1,1))))\n",
    "fig=plt.figure(figsize=(10,4))\n",
    "plt.bar(range(len(log_coeff)), list(log_coeff.values()), align='center')\n",
    "plt.xticks(range(len(log_coeff)), list(log_coeff.keys()),rotation=90)\n",
    "plt.title(\"The Coefficients of Logarithmic Regeression\")\n",
    "plt.show()"
   ]
  },
  {
   "cell_type": "code",
   "execution_count": 31,
   "metadata": {},
   "outputs": [
    {
     "data": {
      "image/png": "[encoded data removed]",
      "text/plain": [
       "<Figure size 720x288 with 1 Axes>"
      ]
     },
     "metadata": {
      "needs_background": "light"
     },
     "output_type": "display_data"
    }
   ],
   "source": [
    "svc_coeff=dict(zip(cont_var+cat_var, np.concatenate(svc_final.named_steps.classifier.coef_.reshape(-1,1))))\n",
    "fig=plt.figure(figsize=(10,4))\n",
    "plt.bar(range(len(svc_coeff)), list(svc_coeff.values()), align='center')\n",
    "plt.xticks(range(len(svc_coeff)), list(svc_coeff.keys()),rotation=90)\n",
    "plt.title(\"The Coefficients of Linear SVC\")\n",
    "plt.show()"
   ]
  },
  {
   "cell_type": "markdown",
   "metadata": {},
   "source": [
    "### Observations\n",
    " - We can see from the visualizations of the coefficients of the 2 models that even though they have very similar scores, the feature effects on the predictions vary between the two models"
   ]
  }
 ],
 "metadata": {
  "kernelspec": {
   "display_name": "coms007",
   "language": "python",
   "name": "myenv"
  },
  "language_info": {
   "codemirror_mode": {
    "name": "ipython",
    "version": 3
   },
   "file_extension": ".py",
   "mimetype": "text/x-python",
   "name": "python",
   "nbconvert_exporter": "python",
   "pygments_lexer": "ipython3",
   "version": "3.7.0"
  }
 },
 "nbformat": 4,
 "nbformat_minor": 2
}
